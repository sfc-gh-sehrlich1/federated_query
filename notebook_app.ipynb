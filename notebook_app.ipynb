{
 "metadata": {
  "kernelspec": {
   "display_name": "Streamlit Notebook",
   "name": "streamlit"
  }
 },
 "nbformat_minor": 5,
 "nbformat": 4,
 "cells": [
  {
   "cell_type": "code",
   "id": "3775908f-ca36-4846-8f38-5adca39217f2",
   "metadata": {
    "language": "python",
    "name": "cell1",
    "collapsed": false,
    "resultHeight": 1014,
    "codeCollapsed": false
   },
   "source": "#%%\nfrom snowflake.snowpark import Session\nfrom snowflake.snowpark.functions import col\n\nimport streamlit as st\nimport helper_function as hf\n\nimport config as cfg\nimport time\nfrom snowflake.snowpark.context import get_active_session\n\n\nprint(st.session_state)\nif 'session_code' not in st.session_state:\n    session = get_active_session()\nelse:\n    session = get_active_session()\n    session.use_database(\"FEDERATED_CONNNECTION_DB\")\n    session.use_schema(\"PUBLIC\")\n\n\n\ndef create_procedure(_session : Session ,jdbc_url, username, password, connection_source):\n\n    connection_class = connection_source_class.get(connection_source)[1]\n    stored_proc = hf.create_procedure_sf(connection_source, connection_class, username,password, jdbc_url, st.session_state.network_integration_name)\n    print(stored_proc)\n    _session.sql(stored_proc).collect() \n\n\ndef create_connection_location(_session : Session):\n    st.session_state.session_code = True\n    create_database_sql = f\"\"\"CREATE DATABASE IF NOT EXISTS FEDERATED_CONNNECTION_DB;\"\"\"\n    _session.sql(create_database_sql).collect()\n    _session.use_database(\"FEDERATED_CONNNECTION_DB\")\n    _session.use_schema(\"PUBLIC\")\n\n\n\n\ndef load_driver(_session : Session ,host, connection_source):\n\n    load_driver_sql = f\"\"\"CREATE STAGE IF NOT EXISTS connection_stage;\"\"\"\n    _session.sql(load_driver_sql).collect()\n    _session.file.put(f\"drivers/{connection_source}.jar\", \"@connection_stage/driver\",auto_compress=False)\n\n    print(\"Driver Loaded Successfully\")\n\ndef test_connection(_session : Session, jdbc_url, username, password, connection_source):\n\n    connection_class = connection_source_class.get(connection_source)[1]\n    print(connection_class)\n    connection_sproc = hf.create_test_connection_sproc(connection_source, connection_class, st.session_state.network_integration_name)\n    print(connection_sproc)\n    _session.sql(connection_sproc).collect()\n\n    connection_sql_call = f\"\"\"call test_connection('{jdbc_url}','{username}','{password}');\"\"\" \n\n    df = _session.sql(connection_sql_call)\n    df.collect()\n    connection_result = df.to_pandas()[\"TEST_CONNECTION\"][0]\n    print(connection_result)\n\n    if connection_result == \"Success\":\n        return True\n    else:\n        return connection_result\n\n\n\n\ndef create_network_rule(_session : Session ,host, port):\n        # Prepare the SQL command to create the network policy\n    \n    network_rule_name = f\"snowflake_network_rule\"\n\n    create_rule_sql = f\"\"\"\n    CREATE OR REPLACE NETWORK RULE {network_rule_name}\n    MODE = EGRESS\n\n    TYPE = HOST_PORT\n\n    VALUE_LIST = ('{host}:{port}')\n    \"\"\"\n\n    print(create_rule_sql)\n    _session.sql(create_rule_sql).collect()\n    # session.sql(create_policy_sql).collect()\n    # Execute the query using the session object from Snowpark\n    # session.sql(create_policy_sql).collect()\n    return network_rule_name \n\n\ndef create_network_integration(_session, network_policy_name, connection_source):\n    network_integration_name = f\"snowflake_network_integration_{connection_source}\"\n\n    create_network_integration_sql = f\"\"\"CREATE OR REPLACE EXTERNAL ACCESS INTEGRATION {network_integration_name}\n    ALLOWED_NETWORK_RULES = ('{network_policy_name}')\n    ENABLED = true\n    \"\"\"\n    \n\n    print(create_network_integration_sql)\n    _session.sql(create_network_integration_sql).collect()\n\n    return network_integration_name\n\n\n#%%\n\n# Set the title for your Streamlit app\nst.title('Create Procedure to call databases')\n\nprocedure_name = st.text_input('Enter Name of Procedure')\n\n# Dropdown 1\nconnection_source_options = ['postgres', 'mysql', 'sqlserver', 'sap']\n\nconnection_source_class = {'postgres': ['postgresql', 'org.postgresql.Driver'], \\\n                           'mysql': ['mysql', 'com.mysql.jdbc.Driver'] , \\\n                           'sqlserver':['sqlserver', 'com.microsoft.sqlserver.jdbc.SQLServerDriver'], \\\n                           'redshift': ['redshift','com.amazon.redshift.jdbc.Driver'], \\\n                           'sap': 'com.sap.db.jdbc.Driver', \\\n                           'databricks' : ['databricks', 'com.databricks.client.jdbc.Driver'],\\\n                           'bigquery': ['bigquery', 'com.simba.googlebigquery.jdbc42.Driver']\n                          }\nconnection_source = st.selectbox('Select from Dropdown 1', connection_source_options)\n\n# Dropdown 2\n\nst.write(\"connection details\")\nhost = st.text_input('Enter host (e.g. 8.8.8.8 or ecw-ecw-ecw-ecw.ec2.internal)' , value='172.168.72.1')\nport = st.text_input('Enter port')\ndatabase_name = st.text_input('Enter database name')\n\nst.write(\"credentials\")\nusername = st.text_input('Enter username')\npassword = st.text_input('Enter password', type=\"password\")\n\nst.write(\"url otions, e.g. encrypt=false;trustServerCertificate=true;loginTimeout=30\")\n\noptions = st.text_input('Enter Options')\n\nif options:\n    jdbc_url = f\"jdbc:{connection_source_class.get(connection_source)[0]}://{host}:{port}/{database_name};{options}\"\nelse:\n    jdbc_url = f\"jdbc:{connection_source_class.get(connection_source)[0]}://{host}:{port}/{database_name}\"\n\nst.write(jdbc_url)\n\ncol1, col2, col3, col4 = st.columns(4)\n\nwith col1: \n    network_rule_button = st.button('Create Network Rule')\n    \n\nwith col2:\n    network_integration_button = st.button('Create Network Integration')\n\n\nwith col3:\n    connection_button = st.button('Test Connection')\n\nwith col4:\n    procedure = st.button('Create Procedure')\n\nif network_rule_button:\n    create_connection_location(session)\n    network_rule_name = create_network_rule(session, host, port)\n    st.session_state.network_rule_name = network_rule_name \n    st.write( f\"Network policy '{network_rule_name}' created successfully.\")\n    load_driver(session, host, connection_source)\n    st.write( f\"Driver loaded successfully.\")\n\nif network_integration_button:\n    print(st.session_state.network_rule_name)\n    if  st.session_state.network_rule_name is None:\n        st.error(\"Network policy must be created first!\")\n    else:\n        print(st.session_state.network_rule_name)\n        network_integration_name = create_network_integration(session, st.session_state.network_rule_name, connection_source)\n        st.session_state.network_integration_name = network_integration_name \n        st.write( f\"Network Integration '{network_integration_name}' created successfully.\")\n\nif connection_button:\n    if 'network_integration_name' not in st.session_state:\n        st.error(\"Network Integration must be created first!\")\n    else:\n        if test_connection(session, jdbc_url, username, password, connection_source) == True: \n            st.write( f\"Connection to '{jdbc_url}' created successfully.\")\n            st.session_state.successful_connection = True \n\n        else:\n            st.write( f\"Connection to '{jdbc_url}' failed.  Please verify component details and try again.\")\n\nif procedure:\n    if 'successful_connection' not in st.session_state:\n        st.error(\"Make sure connection is succssful first!\")\n    else:\n        create_procedure(session, jdbc_url, username, password, connection_source)\n        st.write( f\"Procedure created successfully.\")",
   "execution_count": null,
   "outputs": []
  },
  {
   "cell_type": "code",
   "id": "f6910448-e3b1-4b92-a3be-f58cf66ef43e",
   "metadata": {
    "language": "sql",
    "name": "cell2",
    "collapsed": false,
    "resultHeight": 112
   },
   "outputs": [],
   "source": "call load_to_table('select * from public.transactions', 't2', 100000)",
   "execution_count": null
  },
  {
   "cell_type": "code",
   "id": "26d82862-eb1a-4af7-ac4e-f1733fad2ae0",
   "metadata": {
    "language": "sql",
    "name": "cell3",
    "collapsed": false,
    "resultHeight": 511
   },
   "outputs": [],
   "source": "select * from t2;",
   "execution_count": null
  }
 ]
}